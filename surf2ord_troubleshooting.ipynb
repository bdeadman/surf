{
 "cells": [
  {
   "cell_type": "markdown",
   "id": "8ab6633d-36fa-4459-8e85-a31dd4f2f8c0",
   "metadata": {},
   "source": [
    "## Imports"
   ]
  },
  {
   "cell_type": "code",
   "execution_count": 1,
   "id": "c10a8c8e-54ae-4ed6-bd25-c09e8c58450e",
   "metadata": {},
   "outputs": [],
   "source": [
    "import logging\n",
    "import re\n",
    "from datetime import datetime\n",
    "\n",
    "import pandas as pd\n",
    "import typer\n",
    "from ord_schema import message_helpers, validations\n",
    "from ord_schema.proto import dataset_pb2, reaction_pb2\n",
    "from rdkit.Chem import MolFromSmiles, MolToSmiles\n",
    "from rich.progress import track\n",
    "from typing_extensions import Annotated\n"
   ]
  },
  {
   "cell_type": "code",
   "execution_count": 2,
   "id": "d9235007-ba27-400f-92b3-99b19f3b1276",
   "metadata": {},
   "outputs": [],
   "source": [
    "from surf_utils.helpers import pubchem_property_from_cas\n",
    "from surf_utils.mappings import (\n",
    "    doi_pattern,\n",
    "    email_pattern,\n",
    "    mapping_analyses_ord,\n",
    "    mapping_atmo,\n",
    "    mapping_role,\n",
    "    mapping_stirring,\n",
    "    orcid_pattern,\n",
    ")"
   ]
  },
  {
   "cell_type": "code",
   "execution_count": 3,
   "id": "fcf1aa8f-ce60-43a6-a153-64042e8a58a5",
   "metadata": {},
   "outputs": [
    {
     "name": "stderr",
     "output_type": "stream",
     "text": [
      "C:\\Users\\bende\\GitHub\\bdeadman\\surf\\surf2ord.py:140: SyntaxWarning: invalid escape sequence '\\.'\n",
      "  temp = max([float(t) for t in re.findall(\"[0-9\\.]+\", row.temperature_deg_c)])\n",
      "C:\\Users\\bende\\GitHub\\bdeadman\\surf\\surf2ord.py:209: SyntaxWarning: invalid escape sequence '\\.'\n",
      "  time_h = max([float(t) for t in re.findall(\"[0-9\\.]+\", row.time_h)])\n",
      "C:\\Users\\bende\\GitHub\\bdeadman\\surf\\surf2ord.py:220: SyntaxWarning: invalid escape sequence '\\w'\n",
      "  for cpd in sorted(set(re.findall(\"\\w+_[1-9]\", \" \".join(row.index.tolist())))):\n",
      "C:\\Users\\bende\\GitHub\\bdeadman\\surf\\surf2ord.py:252: SyntaxWarning: invalid escape sequence '\\.'\n",
      "  \"[0-9\\.]\",\n",
      "C:\\Users\\bende\\GitHub\\bdeadman\\surf\\surf2ord.py:253: SyntaxWarning: invalid escape sequence '\\s'\n",
      "  re.findall(\"[Ff]ound[:\\s\\w\\(\\)\\+\\-]+[0-9\\.]+\", row[f\"{cpd}_ms\"])[-1].strip(\n",
      "C:\\Users\\bende\\GitHub\\bdeadman\\surf\\surf2ord.py:268: SyntaxWarning: invalid escape sequence '\\.'\n",
      "  \"[0-9\\.]\",\n",
      "C:\\Users\\bende\\GitHub\\bdeadman\\surf\\surf2ord.py:269: SyntaxWarning: invalid escape sequence '\\s'\n",
      "  re.findall(\"[Ee]xpect[ed]*[:\\s\\w\\(\\)\\+\\-]+[0-9\\.]+\", row[f\"{cpd}_ms\"])[\n"
     ]
    }
   ],
   "source": [
    "from surf2ord import surf2ord\n"
   ]
  },
  {
   "cell_type": "code",
   "execution_count": 4,
   "id": "bf42d699-de0e-40a3-b944-d653f642a8f4",
   "metadata": {},
   "outputs": [
    {
     "name": "stdout",
     "output_type": "stream",
     "text": [
      "         rxn_id                 source_id  source_type    rxn_type  \\\n",
      "0  lit_pub_bo_1  10.1021/acscatal.0c00152  publication  borylation   \n",
      "1  lit_pub_bo_2  10.1021/acscatal.0c00152  publication  borylation   \n",
      "2  lit_pub_bo_3  10.1021/acscatal.0c00152  publication  borylation   \n",
      "3  lit_pub_bo_4  10.1021/acscatal.0c00152  publication  borylation   \n",
      "4  lit_pub_bo_5  10.1021/acscatal.0c00152  publication  borylation   \n",
      "\n",
      "   temperature_deg_c  time_h atmosphere stirring_shaking  scale_mol  \\\n",
      "0                100    48.0      ARGON      UNSPECIFIED   0.004437   \n",
      "1                100    48.0      ARGON      UNSPECIFIED   0.004437   \n",
      "2                100    48.0      ARGON      UNSPECIFIED   0.004437   \n",
      "3                100    48.0      ARGON      UNSPECIFIED   0.004437   \n",
      "4                100    48.0      ARGON      UNSPECIFIED   0.004437   \n",
      "\n",
      "   concentration_mol_l  ... product_1_nmr            product_1_smiles  \\\n",
      "0                  NaN  ...           NaN  O1B(OC(C)(C)C1(C)C)C2COCC2   \n",
      "1                  NaN  ...           NaN  O1B(OC(C)(C)C1(C)C)C2COCC2   \n",
      "2                  NaN  ...           NaN  O1B(OC(C)(C)C1(C)C)C2COCC2   \n",
      "3                  NaN  ...           NaN  O1B(OC(C)(C)C1(C)C)C2COCC2   \n",
      "4                  NaN  ...           NaN  O1B(OC(C)(C)C1(C)C)C2COCC2   \n",
      "\n",
      "  product_1_yield product_1_yieldtype  product_2_cas product_2_smiles  \\\n",
      "0            0.15                  GC            NaN              NaN   \n",
      "1            0.42                  GC            NaN              NaN   \n",
      "2            0.23                  GC            NaN              NaN   \n",
      "3            0.55                  GC            NaN              NaN   \n",
      "4            0.33                  GC            NaN              NaN   \n",
      "\n",
      "  product_2_yield  product_2_yieldtype  \\\n",
      "0             NaN                  NaN   \n",
      "1             NaN                  NaN   \n",
      "2             NaN                  NaN   \n",
      "3             NaN                  NaN   \n",
      "4             NaN                  NaN   \n",
      "\n",
      "                                          provenance procedure  \n",
      "0  Alex T. Mueller alex.mueller@roche.com 0000-00...       NaN  \n",
      "1  Alex T. Mueller alex.mueller@roche.com 0000-00...       NaN  \n",
      "2  Alex T. Mueller alex.mueller@roche.com 0000-00...       NaN  \n",
      "3  Alex T. Mueller alex.mueller@roche.com 0000-00...       NaN  \n",
      "4  Alex T. Mueller alex.mueller@roche.com 0000-00...       NaN  \n",
      "\n",
      "[5 rows x 52 columns]\n"
     ]
    }
   ],
   "source": [
    "df = pd.read_csv('./data/borylation_lit.txt', delimiter= '\\t')\n",
    "print(df.head(5))"
   ]
  },
  {
   "cell_type": "code",
   "execution_count": null,
   "id": "0e318d5d-390c-4ca0-814a-c65fe004de1b",
   "metadata": {},
   "outputs": [],
   "source": []
  },
  {
   "cell_type": "code",
   "execution_count": 5,
   "id": "4a6ac8e7-2064-4c3a-b753-a0ff5a539e32",
   "metadata": {},
   "outputs": [
    {
     "name": "stdout",
     "output_type": "stream",
     "text": [
      "              rxn_id                    source_id source_type    rxn_type  \\\n",
      "0  lsf_lit_minisci_1  10.1021/acs.orglett.8b02988       paper  alkylation   \n",
      "1  lsf_lit_minisci_2  10.1021/acs.orglett.8b02988       paper  alkylation   \n",
      "2  lsf_lit_minisci_3  10.1021/acs.orglett.8b02988       paper  alkylation   \n",
      "3  lsf_lit_minisci_4  10.1021/acs.orglett.8b02988       paper  alkylation   \n",
      "4  lsf_lit_minisci_5  10.1021/acs.orglett.8b02988       paper  alkylation   \n",
      "\n",
      "  rxn_name  rxn_tech  temperature_deg_c  time_h atmosphere stirring_shaking  \\\n",
      "0  minisci  standard                 40    16.0         ar              st_   \n",
      "1  minisci  standard                 40    16.0         ar              st_   \n",
      "2  minisci  standard                 40    16.0         ar              st_   \n",
      "3  minisci  standard                 40    16.0         ar              st_   \n",
      "4  minisci  standard                 40    16.0         ar              st_   \n",
      "\n",
      "   ...  product_2_ms  product_2_nmr product_3_cas product_3_smiles  \\\n",
      "0  ...           NaN            NaN           NaN              NaN   \n",
      "1  ...           NaN            NaN           NaN              NaN   \n",
      "2  ...           NaN            NaN           NaN              NaN   \n",
      "3  ...           NaN            NaN           NaN              NaN   \n",
      "4  ...           NaN            NaN           NaN              NaN   \n",
      "\n",
      "   product_3_yield product_3_yieldtype product_3_ms  product_3_nmr procedure  \\\n",
      "0              NaN                 NaN          NaN            NaN       NaN   \n",
      "1              NaN                 NaN          NaN            NaN       NaN   \n",
      "2              NaN                 NaN          NaN            NaN       NaN   \n",
      "3              NaN                 NaN          NaN            NaN       NaN   \n",
      "4              NaN                 NaN          NaN            NaN       NaN   \n",
      "\n",
      "  comment  \n",
      "0     NaN  \n",
      "1     NaN  \n",
      "2     NaN  \n",
      "3     NaN  \n",
      "4     NaN  \n",
      "\n",
      "[5 rows x 59 columns]\n"
     ]
    }
   ],
   "source": [
    "df = pd.read_csv('./data/minisci_lit.txt', delimiter = '\\t')\n",
    "print(df.head(5))"
   ]
  },
  {
   "cell_type": "code",
   "execution_count": 6,
   "id": "8a5e468d-9a30-4e54-bff1-d755d263cb1e",
   "metadata": {},
   "outputs": [],
   "source": [
    "#df = pd.read_csv('minisci_tidy_lit.txt', delimiter = '\\t')\n",
    "#print(df.head(5))"
   ]
  },
  {
   "cell_type": "markdown",
   "id": "441d1358-eccb-42e2-a2b8-b42f628fc6a3",
   "metadata": {},
   "source": [
    "## Borylation"
   ]
  },
  {
   "cell_type": "code",
   "execution_count": 7,
   "id": "d2375c69-24ca-4ce7-9c38-0cf84c899314",
   "metadata": {},
   "outputs": [],
   "source": [
    "input = './data/borylation_lit.txt'\n",
    "output = './data/borylation_ord.pbtxt'\n",
    "dataset_name = 'Borylation dataset from Roche'\n",
    "description = 'Borylation reactions which were extracted from the literature by Roche scientists and published in the SURF format (ChemRxiv, 2024, DOI: 10.26434/chemrxiv-2023-nfq7h)'"
   ]
  },
  {
   "cell_type": "code",
   "execution_count": 8,
   "id": "6d14e203-5b87-4163-b52b-53bf70c83ddc",
   "metadata": {
    "scrolled": true
   },
   "outputs": [
    {
     "name": "stderr",
     "output_type": "stream",
     "text": [
      "WARNING 2024-07-30 00:38:07,291 surf2ord.py:65: No username, orcid or email provided. If reactions don't contain according provenance, they will be rejected! Suggest to add provenance options.\n",
      "WARNING 2024-07-30 00:38:07,314 surf2ord.py:95: Yields seem to be provided as fractions instead of percentages. Multiplying by 100\n"
     ]
    },
    {
     "data": {
      "application/vnd.jupyter.widget-view+json": {
       "model_id": "3b9e8a79b7b447a89f3e2a62efc41be6",
       "version_major": 2,
       "version_minor": 0
      },
      "text/plain": [
       "Output()"
      ]
     },
     "metadata": {},
     "output_type": "display_data"
    },
    {
     "name": "stderr",
     "output_type": "stream",
     "text": [
      "WARNING 2024-07-30 00:38:07,831 surf2ord.py:261: Guessing MS value '247.1739' from 'HRMS Found: 247.1739' provided for reaction lit_pub_bo_113\n",
      "WARNING 2024-07-30 00:38:07,837 surf2ord.py:261: Guessing MS value '273.1889' from 'HRMS Found: 273.1889' provided for reaction lit_pub_bo_114\n",
      "WARNING 2024-07-30 00:38:07,843 surf2ord.py:261: Guessing MS value '309.1897' from 'HRMS Found: 309.1897' provided for reaction lit_pub_bo_115\n",
      "WARNING 2024-07-30 00:38:07,849 surf2ord.py:261: Guessing MS value '261.1904' from 'HRMS Found: 261.1904' provided for reaction lit_pub_bo_116\n",
      "WARNING 2024-07-30 00:38:07,855 surf2ord.py:261: Guessing MS value '261.1894' from 'HRMS Found: 261.1894' provided for reaction lit_pub_bo_117\n",
      "WARNING 2024-07-30 00:38:07,862 surf2ord.py:261: Guessing MS value '265.1656' from 'HRMS Found: 265.1656' provided for reaction lit_pub_bo_118\n",
      "WARNING 2024-07-30 00:38:07,867 surf2ord.py:261: Guessing MS value '281.1362' from 'HRMS Found: 281.1362' provided for reaction lit_pub_bo_119\n",
      "WARNING 2024-07-30 00:38:07,873 surf2ord.py:261: Guessing MS value '325.0847' from 'HRMS Found: 325.0847' provided for reaction lit_pub_bo_120\n",
      "WARNING 2024-07-30 00:38:07,880 surf2ord.py:261: Guessing MS value '259.1747' from 'HRMS Found: 259.1747' provided for reaction lit_pub_bo_121\n",
      "WARNING 2024-07-30 00:38:07,885 surf2ord.py:261: Guessing MS value '259.1747' from 'HRMS Found: 259.1747' provided for reaction lit_pub_bo_122\n",
      "WARNING 2024-07-30 00:38:07,892 surf2ord.py:261: Guessing MS value '273.1903' from 'HRMS Found: 273.1903' provided for reaction lit_pub_bo_123\n",
      "WARNING 2024-07-30 00:38:07,898 surf2ord.py:261: Guessing MS value '287.2065' from 'HRMS Found: 287.2065' provided for reaction lit_pub_bo_124\n",
      "WARNING 2024-07-30 00:38:07,904 surf2ord.py:261: Guessing MS value '399.2771' from 'HRMS Found: 399.2771' provided for reaction lit_pub_bo_125\n",
      "WARNING 2024-07-30 00:38:07,911 surf2ord.py:261: Guessing MS value '399.2771' from 'HRMS Found: 399.2771' provided for reaction lit_pub_bo_126\n",
      "WARNING 2024-07-30 00:38:07,918 surf2ord.py:261: Guessing MS value '413.2931' from 'HRMS Found: 413.2931' provided for reaction lit_pub_bo_127\n",
      "WARNING 2024-07-30 00:38:07,924 surf2ord.py:261: Guessing MS value '433.2386' from 'HRMS Found: 433.2386' provided for reaction lit_pub_bo_128\n",
      "WARNING 2024-07-30 00:38:07,931 surf2ord.py:261: Guessing MS value '417.2663' from 'HRMS Found: 417.2663' provided for reaction lit_pub_bo_129\n",
      "WARNING 2024-07-30 00:38:07,938 surf2ord.py:261: Guessing MS value '349.2604' from 'HRMS Found: 349.2604' provided for reaction lit_pub_bo_130\n",
      "WARNING 2024-07-30 00:38:07,946 surf2ord.py:261: Guessing MS value '240.0996' from 'HRMS Found: 240.0996' provided for reaction lit_pub_bo_131\n",
      "WARNING 2024-07-30 00:38:08,133 surf2ord.py:261: Guessing MS value '365.0284' from 'HRMS Found: 365.0284' provided for reaction lit_pub_bo_204\n",
      "WARNING 2024-07-30 00:38:08,159 surf2ord.py:261: Guessing MS value '367.0246' from 'HRMS Found: 367.0246' provided for reaction lit_pub_bo_209\n",
      "WARNING 2024-07-30 00:38:08,164 surf2ord.py:261: Guessing MS value '317.028' from 'HRMS Found: 317.0280' provided for reaction lit_pub_bo_210\n",
      "WARNING 2024-07-30 00:38:08,175 surf2ord.py:261: Guessing MS value '313.0529' from 'HRMS Found: 313.0529' provided for reaction lit_pub_bo_212\n",
      "WARNING 2024-07-30 00:38:08,181 surf2ord.py:261: Guessing MS value '281.0865' from 'HRMS Found: 281.0865' provided for reaction lit_pub_bo_213\n",
      "WARNING 2024-07-30 00:38:08,186 surf2ord.py:261: Guessing MS value '323.0563' from 'HRMS Found: 323.0563' provided for reaction lit_pub_bo_214\n",
      "WARNING 2024-07-30 00:38:08,206 surf2ord.py:261: Guessing MS value '266.1558' from 'HRMS Found: 266.1558' provided for reaction lit_pub_bo_218\n",
      "WARNING 2024-07-30 00:38:08,235 surf2ord.py:261: Guessing MS value '273.2138' from 'HRMS Found: 273.2138' provided for reaction lit_pub_bo_223\n",
      "WARNING 2024-07-30 00:38:08,240 surf2ord.py:261: Guessing MS value '305.0194' from 'HRMS Found: 305.0194' provided for reaction lit_pub_bo_224\n",
      "WARNING 2024-07-30 00:38:09,014 surf2ord.py:261: Guessing MS value '398.1367' from 'HRMS Expected: 398.1362 Found: 398.1367' provided for reaction lit_pub_bo_439\n",
      "WARNING 2024-07-30 00:38:09,021 surf2ord.py:261: Guessing MS value '398.1367' from 'HRMS Expected: 398.1362 Found: 398.1367' provided for reaction lit_pub_bo_440\n",
      "WARNING 2024-07-30 00:38:09,028 surf2ord.py:261: Guessing MS value '366.1463' from 'HRMS Expected: 366.1464 Found: 366.1463' provided for reaction lit_pub_bo_441\n",
      "WARNING 2024-07-30 00:38:09,036 surf2ord.py:261: Guessing MS value '366.1463' from 'HRMS Expected: 366.1464 Found: 366.1463' provided for reaction lit_pub_bo_442\n",
      "WARNING 2024-07-30 00:38:09,043 surf2ord.py:261: Guessing MS value '158.1542' from 'HRMS Expected: 158.1552 Found: 158.1542' provided for reaction lit_pub_bo_443\n",
      "WARNING 2024-07-30 00:38:09,051 surf2ord.py:261: Guessing MS value '158.1542' from 'HRMS Expected: 158.1552 Found: 158.1542' provided for reaction lit_pub_bo_444\n",
      "WARNING 2024-07-30 00:38:09,061 surf2ord.py:261: Guessing MS value '363.1125' from 'HRMS Expected: 364.1135 Found: 363.1125' provided for reaction lit_pub_bo_445\n",
      "WARNING 2024-07-30 00:38:09,067 surf2ord.py:261: Guessing MS value '363.1125' from 'HRMS Expected: 364.1135 Found: 363.1125' provided for reaction lit_pub_bo_446\n",
      "WARNING 2024-07-30 00:38:09,074 surf2ord.py:261: Guessing MS value '348.1385' from 'HRMS Expected: 348.1389 Found: 348.1385' provided for reaction lit_pub_bo_447\n",
      "WARNING 2024-07-30 00:38:09,080 surf2ord.py:261: Guessing MS value '348.1385' from 'HRMS Expected: 348.1389 Found: 348.1385' provided for reaction lit_pub_bo_448\n",
      "WARNING 2024-07-30 00:38:09,086 surf2ord.py:261: Guessing MS value '359.1504' from 'HRMS Expected: 359.1516 Found: 359.1504' provided for reaction lit_pub_bo_449\n",
      "WARNING 2024-07-30 00:38:09,092 surf2ord.py:261: Guessing MS value '359.1504' from 'HRMS Expected: 359.1516 Found: 359.1504' provided for reaction lit_pub_bo_450\n",
      "WARNING 2024-07-30 00:38:09,098 surf2ord.py:261: Guessing MS value '387.1568' from 'HRMS Expected: 387.1579 Found: 387.1568' provided for reaction lit_pub_bo_451\n",
      "WARNING 2024-07-30 00:38:09,105 surf2ord.py:261: Guessing MS value '387.1568' from 'HRMS Expected: 387.1579 Found: 387.1568' provided for reaction lit_pub_bo_452\n",
      "WARNING 2024-07-30 00:38:09,112 surf2ord.py:261: Guessing MS value '331.142' from 'HRMS Expected: 331.1435 Found: 331.1420' provided for reaction lit_pub_bo_453\n",
      "WARNING 2024-07-30 00:38:09,118 surf2ord.py:261: Guessing MS value '331.142' from 'HRMS Expected: 331.1435 Found: 331.1420' provided for reaction lit_pub_bo_454\n",
      "WARNING 2024-07-30 00:38:09,125 surf2ord.py:261: Guessing MS value '456.1625' from 'HRMS Expected: 456.1622 Found: 456.1625' provided for reaction lit_pub_bo_457\n",
      "WARNING 2024-07-30 00:38:09,131 surf2ord.py:261: Guessing MS value '456.1625' from 'HRMS Expected: 456.1622 Found: 456.1625' provided for reaction lit_pub_bo_458\n",
      "WARNING 2024-07-30 00:38:09,140 surf2ord.py:261: Guessing MS value '344.1646' from 'HRMS Expected: 344.1645 Found: 344.1646' provided for reaction lit_pub_bo_459\n",
      "WARNING 2024-07-30 00:38:09,147 surf2ord.py:261: Guessing MS value '344.1646' from 'HRMS Expected: 344.1645 Found: 344.1646' provided for reaction lit_pub_bo_460\n",
      "WARNING 2024-07-30 00:38:09,153 surf2ord.py:261: Guessing MS value '424.1887' from 'HRMS Expected: 424.1883 Found: 424.1887' provided for reaction lit_pub_bo_461\n",
      "WARNING 2024-07-30 00:38:09,160 surf2ord.py:261: Guessing MS value '424.1887' from 'HRMS Expected: 424.1883 Found: 424.1887' provided for reaction lit_pub_bo_462\n",
      "WARNING 2024-07-30 00:38:09,166 surf2ord.py:261: Guessing MS value '386.2091' from 'HRMS Expected: 386.2109 Found: 386.2091' provided for reaction lit_pub_bo_463\n",
      "WARNING 2024-07-30 00:38:09,172 surf2ord.py:261: Guessing MS value '386.2091' from 'HRMS Expected: 386.2109 Found: 386.2091' provided for reaction lit_pub_bo_464\n",
      "WARNING 2024-07-30 00:38:09,179 surf2ord.py:261: Guessing MS value '412.1526' from 'HRMS Expected: 412.1522 Found: 412.1526' provided for reaction lit_pub_bo_465\n",
      "WARNING 2024-07-30 00:38:09,186 surf2ord.py:261: Guessing MS value '412.1526' from 'HRMS Expected: 412.1522 Found: 412.1526' provided for reaction lit_pub_bo_466\n",
      "WARNING 2024-07-30 00:38:09,192 surf2ord.py:261: Guessing MS value '394.1476' from 'HRMS Expected: 394.1474 Found: 394.1476' provided for reaction lit_pub_bo_467\n",
      "WARNING 2024-07-30 00:38:09,199 surf2ord.py:261: Guessing MS value '394.1476' from 'HRMS Expected: 394.1474 Found: 394.1476' provided for reaction lit_pub_bo_468\n",
      "WARNING 2024-07-30 00:38:09,207 surf2ord.py:261: Guessing MS value '416.2229' from 'HRMS Expected: 416.2224 Found: 416.2229' provided for reaction lit_pub_bo_469\n",
      "WARNING 2024-07-30 00:38:09,270 surf2ord.py:261: Guessing MS value '470.0619' from 'HRMS Expected: 470.0611 Found: 470.0619' provided for reaction lit_pub_bo_471\n",
      "WARNING 2024-07-30 00:38:09,277 surf2ord.py:261: Guessing MS value '470.0619' from 'HRMS Expected: 470.0611 Found: 470.0619' provided for reaction lit_pub_bo_472\n",
      "WARNING 2024-07-30 00:38:09,283 surf2ord.py:261: Guessing MS value '362.1552' from 'HRMS Expected: 362.1554 Found: 362.1552' provided for reaction lit_pub_bo_473\n",
      "WARNING 2024-07-30 00:38:09,290 surf2ord.py:261: Guessing MS value '362.1552' from 'HRMS Expected: 362.1554 Found: 362.1552' provided for reaction lit_pub_bo_474\n",
      "WARNING 2024-07-30 00:38:09,296 surf2ord.py:261: Guessing MS value '422.0744' from 'HRMS Expected: 422.0750 Found: 422.0744' provided for reaction lit_pub_bo_475\n",
      "WARNING 2024-07-30 00:38:09,303 surf2ord.py:261: Guessing MS value '422.0744' from 'HRMS Expected: 422.0750 Found: 422.0744' provided for reaction lit_pub_bo_476\n",
      "WARNING 2024-07-30 00:38:09,309 surf2ord.py:261: Guessing MS value '402.1702' from 'HRMS Expected: 402.1703 Found: 402.1702' provided for reaction lit_pub_bo_477\n",
      "WARNING 2024-07-30 00:38:09,316 surf2ord.py:261: Guessing MS value '402.1702' from 'HRMS Expected: 402.1703 Found: 402.1702' provided for reaction lit_pub_bo_478\n",
      "WARNING 2024-07-30 00:38:09,322 surf2ord.py:261: Guessing MS value '378.1253' from 'HRMS Expected: 378.1258 Found: 378.1253' provided for reaction lit_pub_bo_479\n",
      "WARNING 2024-07-30 00:38:09,329 surf2ord.py:261: Guessing MS value '378.1253' from 'HRMS Expected: 378.1258 Found: 378.1253' provided for reaction lit_pub_bo_480\n",
      "WARNING 2024-07-30 00:38:09,335 surf2ord.py:261: Guessing MS value '358.1803' from 'HRMS Expected: 358.1801 Found: 358.1803' provided for reaction lit_pub_bo_481\n",
      "WARNING 2024-07-30 00:38:09,343 surf2ord.py:261: Guessing MS value '358.1803' from 'HRMS Expected: 358.1801 Found: 358.1803' provided for reaction lit_pub_bo_482\n",
      "WARNING 2024-07-30 00:38:09,349 surf2ord.py:261: Guessing MS value '374.1754' from 'HRMS Expected: 374.1754 Found: 374.1754' provided for reaction lit_pub_bo_483\n",
      "WARNING 2024-07-30 00:38:09,355 surf2ord.py:261: Guessing MS value '374.1754' from 'HRMS Expected: 374.1754 Found: 374.1754' provided for reaction lit_pub_bo_484\n",
      "WARNING 2024-07-30 00:38:09,362 surf2ord.py:261: Guessing MS value '486.246' from 'HRMS Expected: 486.2459 Found: 486.2460' provided for reaction lit_pub_bo_485\n",
      "WARNING 2024-07-30 00:38:09,369 surf2ord.py:261: Guessing MS value '486.246' from 'HRMS Expected: 486.2459 Found: 486.2460' provided for reaction lit_pub_bo_486\n",
      "WARNING 2024-07-30 00:38:09,375 surf2ord.py:261: Guessing MS value '345.1601' from 'HRMS Expected: 345.1597 Found: 345.1601' provided for reaction lit_pub_bo_487\n",
      "WARNING 2024-07-30 00:38:09,383 surf2ord.py:261: Guessing MS value '345.1601' from 'HRMS Expected: 345.1597 Found: 345.1601' provided for reaction lit_pub_bo_488\n",
      "WARNING 2024-07-30 00:38:09,391 surf2ord.py:261: Guessing MS value '425.1704' from 'HRMS Expected: 425.1711 Found: 425.1704' provided for reaction lit_pub_bo_489\n",
      "WARNING 2024-07-30 00:38:09,398 surf2ord.py:261: Guessing MS value '425.1704' from 'HRMS Expected: 425.1711 Found: 425.1704' provided for reaction lit_pub_bo_490\n",
      "WARNING 2024-07-30 00:38:09,404 surf2ord.py:261: Guessing MS value '436.0898' from 'HRMS Expected: 436.0906 Found: 436.0898' provided for reaction lit_pub_bo_491\n",
      "WARNING 2024-07-30 00:38:09,410 surf2ord.py:261: Guessing MS value '436.0898' from 'HRMS Expected: 436.0906 Found: 436.0898' provided for reaction lit_pub_bo_492\n",
      "WARNING 2024-07-30 00:38:09,417 surf2ord.py:261: Guessing MS value '391.1443' from 'HRMS Expected: 391.1448 Found: 391.1443' provided for reaction lit_pub_bo_493\n",
      "WARNING 2024-07-30 00:38:09,424 surf2ord.py:261: Guessing MS value '391.1443' from 'HRMS Expected: 391.1448 Found: 391.1443' provided for reaction lit_pub_bo_494\n",
      "WARNING 2024-07-30 00:38:09,430 surf2ord.py:261: Guessing MS value '376.1713' from 'HRMS Expected: 376.1707 Found: 376.1713' provided for reaction lit_pub_bo_495\n",
      "WARNING 2024-07-30 00:38:09,436 surf2ord.py:261: Guessing MS value '376.1713' from 'HRMS Expected: 376.1707 Found: 376.1713' provided for reaction lit_pub_bo_496\n",
      "WARNING 2024-07-30 00:38:09,442 surf2ord.py:261: Guessing MS value '415.1775' from 'HRMS Expected: 415.1778 Found: 415.1775' provided for reaction lit_pub_bo_497\n",
      "WARNING 2024-07-30 00:38:09,449 surf2ord.py:261: Guessing MS value '415.1775' from 'HRMS Expected: 415.1778 Found: 415.1775' provided for reaction lit_pub_bo_498\n",
      "WARNING 2024-07-30 00:38:09,455 surf2ord.py:261: Guessing MS value '394.1597' from 'HRMS Expected: 394.1607 Found: 394.1597' provided for reaction lit_pub_bo_499\n",
      "WARNING 2024-07-30 00:38:09,462 surf2ord.py:261: Guessing MS value '394.1597' from 'HRMS Expected: 394.1607 Found: 394.1597' provided for reaction lit_pub_bo_500\n",
      "WARNING 2024-07-30 00:38:09,468 surf2ord.py:261: Guessing MS value '372.1959' from 'HRMS Expected: 372.1958 Found: 372.1959' provided for reaction lit_pub_bo_501\n",
      "WARNING 2024-07-30 00:38:09,474 surf2ord.py:261: Guessing MS value '372.1959' from 'HRMS Expected: 372.1958 Found: 372.1959' provided for reaction lit_pub_bo_502\n",
      "WARNING 2024-07-30 00:38:09,481 surf2ord.py:261: Guessing MS value '388.1915' from 'HRMS Expected: 388.1907 Found: 388.1915' provided for reaction lit_pub_bo_503\n",
      "WARNING 2024-07-30 00:38:09,487 surf2ord.py:261: Guessing MS value '388.1915' from 'HRMS Expected: 388.1907 Found: 388.1915' provided for reaction lit_pub_bo_504\n",
      "WARNING 2024-07-30 00:38:09,495 surf2ord.py:261: Guessing MS value '446.2217' from 'HRMS Expected: 466.2229 Found: 446.2217' provided for reaction lit_pub_bo_505\n",
      "WARNING 2024-07-30 00:38:09,502 surf2ord.py:261: Guessing MS value '446.2217' from 'HRMS Expected: 466.2229 Found: 446.2217' provided for reaction lit_pub_bo_506\n",
      "WARNING 2024-07-30 00:38:09,509 surf2ord.py:261: Guessing MS value '359.1579' from 'HRMS Expected: 359.1574 Found: 359.1579' provided for reaction lit_pub_bo_507\n",
      "WARNING 2024-07-30 00:38:09,516 surf2ord.py:261: Guessing MS value '359.1579' from 'HRMS Expected: 359.1574 Found: 359.1579' provided for reaction lit_pub_bo_508\n",
      "WARNING 2024-07-30 00:38:09,524 surf2ord.py:261: Guessing MS value '356.163' from 'HRMS Expected: 356.1645 Found: 356.1630' provided for reaction lit_pub_bo_509\n",
      "WARNING 2024-07-30 00:38:09,533 surf2ord.py:261: Guessing MS value '356.163' from 'HRMS Expected: 356.1645 Found: 356.1630' provided for reaction lit_pub_bo_510\n",
      "WARNING 2024-07-30 00:38:09,540 surf2ord.py:261: Guessing MS value '524.2979' from 'HRMS Expected: 524.2961 Found: 524.2979' provided for reaction lit_pub_bo_511\n",
      "WARNING 2024-07-30 00:38:09,547 surf2ord.py:261: Guessing MS value '398.2109' from 'HRMS Expected: 398.2109 Found: 398.2109' provided for reaction lit_pub_bo_512\n",
      "WARNING 2024-07-30 00:38:09,554 surf2ord.py:261: Guessing MS value '524.2978' from 'HRMS Expected: 524.2961 Found: 524.2978' provided for reaction lit_pub_bo_513\n",
      "WARNING 2024-07-30 00:38:09,562 surf2ord.py:261: Guessing MS value '398.2108' from 'HRMS Expected: 398.2109 Found: 398.2108' provided for reaction lit_pub_bo_514\n",
      "WARNING 2024-07-30 00:38:09,569 surf2ord.py:261: Guessing MS value '295.1257' from 'HRMS Expected: 295.1256 Found: 295.1257' provided for reaction lit_pub_bo_515\n",
      "WARNING 2024-07-30 00:38:09,576 surf2ord.py:261: Guessing MS value '339.0752' from 'HRMS Expected: 339.0756 Found: 339.0752' provided for reaction lit_pub_bo_516\n",
      "WARNING 2024-07-30 00:38:09,584 surf2ord.py:261: Guessing MS value '426.1678' from 'HRMS Expected: 426.1675 Found: 426.1678' provided for reaction lit_pub_bo_517\n",
      "WARNING 2024-07-30 00:38:09,591 surf2ord.py:261: Guessing MS value '450.1058' from 'HRMS Expected: 450.1057 Found: 450.1058' provided for reaction lit_pub_bo_518\n",
      "WARNING 2024-07-30 00:38:09,597 surf2ord.py:261: Guessing MS value '464.1201' from 'HRMS Expected: 464.1219 Found: 464.1201' provided for reaction lit_pub_bo_519\n",
      "WARNING 2024-07-30 00:38:10,033 surf2ord.py:261: Guessing MS value '357.1027' from 'HRMS Found: 357.1027' provided for reaction lit_pub_bo_651\n",
      "WARNING 2024-07-30 00:38:10,040 surf2ord.py:261: Guessing MS value '323.0771' from 'HRMS Found: 323.0771' provided for reaction lit_pub_bo_652\n",
      "WARNING 2024-07-30 00:38:10,047 surf2ord.py:261: Guessing MS value '282.1769' from 'HRMS Found: 282.1769' provided for reaction lit_pub_bo_653\n",
      "WARNING 2024-07-30 00:38:10,052 surf2ord.py:261: Guessing MS value '299.1805' from 'HRMS Found: 299.1805' provided for reaction lit_pub_bo_654\n",
      "WARNING 2024-07-30 00:38:10,057 surf2ord.py:261: Guessing MS value '303.1299' from 'HRMS Found: 303.1299' provided for reaction lit_pub_bo_655\n",
      "WARNING 2024-07-30 00:38:10,063 surf2ord.py:261: Guessing MS value '346.0715' from 'HRMS Found: 346.0715' provided for reaction lit_pub_bo_656\n",
      "WARNING 2024-07-30 00:38:10,068 surf2ord.py:261: Guessing MS value '310.159' from 'HRMS Found: 310.1590' provided for reaction lit_pub_bo_657\n",
      "WARNING 2024-07-30 00:38:10,074 surf2ord.py:261: Guessing MS value '310.159' from 'HRMS Found: 310.1590' provided for reaction lit_pub_bo_658\n",
      "WARNING 2024-07-30 00:38:10,079 surf2ord.py:261: Guessing MS value '346.0727' from 'HRMS Found: 346.0727' provided for reaction lit_pub_bo_659\n",
      "WARNING 2024-07-30 00:38:10,085 surf2ord.py:261: Guessing MS value '346.0727' from 'HRMS Found: 346.0727' provided for reaction lit_pub_bo_660\n",
      "WARNING 2024-07-30 00:38:10,091 surf2ord.py:261: Guessing MS value '336.15' from 'HRMS Found: 336.1500' provided for reaction lit_pub_bo_661\n",
      "WARNING 2024-07-30 00:38:10,098 surf2ord.py:261: Guessing MS value '336.15' from 'HRMS Found: 336.1500' provided for reaction lit_pub_bo_662\n",
      "WARNING 2024-07-30 00:38:10,104 surf2ord.py:261: Guessing MS value '341.2096' from 'HRMS Found: 341.2096' provided for reaction lit_pub_bo_663\n",
      "WARNING 2024-07-30 00:38:10,111 surf2ord.py:261: Guessing MS value '341.2096' from 'HRMS Found: 341.2096' provided for reaction lit_pub_bo_664\n",
      "WARNING 2024-07-30 00:38:10,116 surf2ord.py:261: Guessing MS value '294.1648' from 'HRMS Found: 294.1648' provided for reaction lit_pub_bo_665\n",
      "WARNING 2024-07-30 00:38:10,124 surf2ord.py:261: Guessing MS value '294.1648' from 'HRMS Found: 294.1648' provided for reaction lit_pub_bo_666\n",
      "WARNING 2024-07-30 00:38:10,130 surf2ord.py:261: Guessing MS value '298.1749' from 'HRMS Found: 298.1749' provided for reaction lit_pub_bo_667\n",
      "WARNING 2024-07-30 00:38:10,136 surf2ord.py:261: Guessing MS value '298.1749' from 'HRMS Found: 298.1749' provided for reaction lit_pub_bo_668\n",
      "WARNING 2024-07-30 00:38:10,142 surf2ord.py:261: Guessing MS value '283.1851' from 'HRMS Found: 283.1851' provided for reaction lit_pub_bo_669\n",
      "WARNING 2024-07-30 00:38:10,150 surf2ord.py:261: Guessing MS value '283.1851' from 'HRMS Found: 283.1851' provided for reaction lit_pub_bo_670\n",
      "WARNING 2024-07-30 00:38:10,156 surf2ord.py:261: Guessing MS value '304.1281' from 'HRMS Found: 304.1281' provided for reaction lit_pub_bo_671\n",
      "WARNING 2024-07-30 00:38:10,163 surf2ord.py:261: Guessing MS value '304.1281' from 'HRMS Found: 304.1281' provided for reaction lit_pub_bo_672\n",
      "WARNING 2024-07-30 00:38:10,223 surf2ord.py:261: Guessing MS value '262.1612' from 'HRMS Found: 262.1612' provided for reaction lit_pub_bo_684\n",
      "WARNING 2024-07-30 00:38:10,229 surf2ord.py:261: Guessing MS value '276.1794' from 'HRMS Found: 276.1794' provided for reaction lit_pub_bo_685\n",
      "WARNING 2024-07-30 00:38:10,236 surf2ord.py:261: Guessing MS value '304.2112' from 'HRMS Found: 304.2112' provided for reaction lit_pub_bo_686\n",
      "WARNING 2024-07-30 00:38:10,242 surf2ord.py:261: Guessing MS value '318.2231' from 'HRMS Found: 318.2231' provided for reaction lit_pub_bo_687\n",
      "WARNING 2024-07-30 00:38:10,249 surf2ord.py:261: Guessing MS value '332.2403' from 'HRMS Found: 332.2403' provided for reaction lit_pub_bo_688\n",
      "WARNING 2024-07-30 00:38:10,256 surf2ord.py:261: Guessing MS value '360.2749' from 'HRMS Found: 360.2749' provided for reaction lit_pub_bo_689\n",
      "WARNING 2024-07-30 00:38:10,263 surf2ord.py:261: Guessing MS value '416.3365' from 'HRMS Found: 416.3365' provided for reaction lit_pub_bo_690\n",
      "WARNING 2024-07-30 00:38:10,270 surf2ord.py:261: Guessing MS value '302.1961' from 'HRMS Found: 302.1961' provided for reaction lit_pub_bo_691\n",
      "WARNING 2024-07-30 00:38:10,283 surf2ord.py:261: Guessing MS value '330.2249' from 'HRMS Found: 330.2249' provided for reaction lit_pub_bo_693\n",
      "WARNING 2024-07-30 00:38:10,289 surf2ord.py:261: Guessing MS value '318.1903' from 'HRMS Found: 318.1903' provided for reaction lit_pub_bo_694\n",
      "WARNING 2024-07-30 00:38:10,295 surf2ord.py:261: Guessing MS value '344.2411' from 'HRMS Found: 344.2411' provided for reaction lit_pub_bo_695\n",
      "WARNING 2024-07-30 00:38:10,302 surf2ord.py:261: Guessing MS value '412.3054' from 'HRMS Found: 412.3054' provided for reaction lit_pub_bo_696\n",
      "WARNING 2024-07-30 00:38:10,309 surf2ord.py:261: Guessing MS value '346.2475' from 'HRMS Found: 346.2475' provided for reaction lit_pub_bo_697\n",
      "WARNING 2024-07-30 00:38:10,315 surf2ord.py:261: Guessing MS value '362.2509' from 'HRMS Found: 362.2509' provided for reaction lit_pub_bo_698\n",
      "WARNING 2024-07-30 00:38:10,321 surf2ord.py:261: Guessing MS value '366.2005' from 'HRMS Found: 366.2005' provided for reaction lit_pub_bo_699\n",
      "WARNING 2024-07-30 00:38:10,328 surf2ord.py:261: Guessing MS value '408.2715' from 'HRMS Found: 408.2715' provided for reaction lit_pub_bo_700\n",
      "WARNING 2024-07-30 00:38:10,334 surf2ord.py:261: Guessing MS value '400.2278' from 'HRMS Found: 400.2278' provided for reaction lit_pub_bo_701\n",
      "WARNING 2024-07-30 00:38:10,346 surf2ord.py:261: Guessing MS value '382.2567' from 'HRMS Found: 382.2567' provided for reaction lit_pub_bo_703\n",
      "WARNING 2024-07-30 00:38:10,352 surf2ord.py:261: Guessing MS value '444.1081' from 'HRMS Found: 444.1081' provided for reaction lit_pub_bo_704\n",
      "WARNING 2024-07-30 00:38:10,358 surf2ord.py:261: Guessing MS value '368.2223' from 'HRMS Found: 368.2223' provided for reaction lit_pub_bo_705\n",
      "WARNING 2024-07-30 00:38:10,367 surf2ord.py:261: Guessing MS value '392.2673' from 'HRMS Found: 392.2673' provided for reaction lit_pub_bo_706\n",
      "WARNING 2024-07-30 00:38:10,373 surf2ord.py:261: Guessing MS value '360.272' from 'HRMS Found: 360.2720' provided for reaction lit_pub_bo_707\n",
      "WARNING 2024-07-30 00:38:10,380 surf2ord.py:261: Guessing MS value '350.2302' from 'HRMS Found: 350.2302' provided for reaction lit_pub_bo_708\n",
      "WARNING 2024-07-30 00:38:10,387 surf2ord.py:261: Guessing MS value '366.2003' from 'HRMS Found: 366.2003' provided for reaction lit_pub_bo_709\n",
      "WARNING 2024-07-30 00:38:10,393 surf2ord.py:261: Guessing MS value '410.15' from 'HRMS Found: 410.1500' provided for reaction lit_pub_bo_710\n",
      "WARNING 2024-07-30 00:38:10,399 surf2ord.py:261: Guessing MS value '357.2343' from 'HRMS Found: 357.2343' provided for reaction lit_pub_bo_711\n",
      "WARNING 2024-07-30 00:38:10,406 surf2ord.py:261: Guessing MS value '350.2314' from 'HRMS Found: 350.2314' provided for reaction lit_pub_bo_712\n",
      "WARNING 2024-07-30 00:38:10,412 surf2ord.py:261: Guessing MS value '366.2007' from 'HRMS Found: 366.2007' provided for reaction lit_pub_bo_713\n",
      "WARNING 2024-07-30 00:38:10,419 surf2ord.py:261: Guessing MS value '362.2509' from 'HRMS Found: 362.2509' provided for reaction lit_pub_bo_714\n",
      "WARNING 2024-07-30 00:38:10,425 surf2ord.py:261: Guessing MS value '357.2337' from 'HRMS Found: 357.2337' provided for reaction lit_pub_bo_715\n",
      "WARNING 2024-07-30 00:38:10,431 surf2ord.py:261: Guessing MS value '322.2182' from 'HRMS Found: 322.2182' provided for reaction lit_pub_bo_716\n",
      "WARNING 2024-07-30 00:38:10,437 surf2ord.py:261: Guessing MS value '338.1954' from 'HRMS Found: 338.1954' provided for reaction lit_pub_bo_717\n",
      "WARNING 2024-07-30 00:38:10,443 surf2ord.py:261: Guessing MS value '335.2501' from 'HRMS Found: 335.2501' provided for reaction lit_pub_bo_718\n",
      "WARNING 2024-07-30 00:38:10,450 surf2ord.py:261: Guessing MS value '321.236' from 'HRMS Found: 321.2360' provided for reaction lit_pub_bo_719\n",
      "WARNING 2024-07-30 00:38:10,461 surf2ord.py:261: Guessing MS value '371.2505' from 'HRMS Found: 371.2505' provided for reaction lit_pub_bo_721\n",
      "WARNING 2024-07-30 00:38:10,467 surf2ord.py:261: Guessing MS value '367.1995' from 'HRMS Found: 367.1995' provided for reaction lit_pub_bo_722\n",
      "WARNING 2024-07-30 00:38:10,475 surf2ord.py:261: Guessing MS value '347.25' from 'HRMS Found: 347.2500' provided for reaction lit_pub_bo_723\n",
      "WARNING 2024-07-30 00:38:10,482 surf2ord.py:261: Guessing MS value '460.3384' from 'HRMS Found: 460.3384' provided for reaction lit_pub_bo_724\n",
      "WARNING 2024-07-30 00:38:10,488 surf2ord.py:261: Guessing MS value '333.2346' from 'HRMS Found: 333.2346' provided for reaction lit_pub_bo_725\n",
      "WARNING 2024-07-30 00:38:10,495 surf2ord.py:261: Guessing MS value '333.2345' from 'HRMS Found: 333.2345' provided for reaction lit_pub_bo_726\n",
      "WARNING 2024-07-30 00:38:10,504 surf2ord.py:261: Guessing MS value '367.2002' from 'HRMS Found: 367.2002' provided for reaction lit_pub_bo_727\n",
      "WARNING 2024-07-30 00:38:10,516 surf2ord.py:261: Guessing MS value '330.149' from 'HRMS Found: 330.1490' provided for reaction lit_pub_bo_729\n",
      "WARNING 2024-07-30 00:38:10,522 surf2ord.py:261: Guessing MS value '334.2197' from 'HRMS Found: 334.2197' provided for reaction lit_pub_bo_730\n",
      "WARNING 2024-07-30 00:38:10,815 surf2ord.py:261: Guessing MS value '268.2066' from 'HRMS Found: 268.2066' provided for reaction lit_pub_bo_787\n",
      "WARNING 2024-07-30 00:38:10,821 surf2ord.py:261: Guessing MS value '268.2066' from 'HRMS Found: 268.2066' provided for reaction lit_pub_bo_788\n",
      "WARNING 2024-07-30 00:38:10,827 surf2ord.py:261: Guessing MS value '268.2066' from 'HRMS Found: 268.2066' provided for reaction lit_pub_bo_789\n",
      "WARNING 2024-07-30 00:38:10,832 surf2ord.py:261: Guessing MS value '268.2066' from 'HRMS Found: 268.2066' provided for reaction lit_pub_bo_790\n",
      "WARNING 2024-07-30 00:38:10,837 surf2ord.py:261: Guessing MS value '268.2066' from 'HRMS Found: 268.2066' provided for reaction lit_pub_bo_791\n",
      "WARNING 2024-07-30 00:38:10,842 surf2ord.py:261: Guessing MS value '268.2066' from 'HRMS Found: 268.2066' provided for reaction lit_pub_bo_792\n",
      "WARNING 2024-07-30 00:38:10,848 surf2ord.py:261: Guessing MS value '268.2066' from 'HRMS Found: 268.2066' provided for reaction lit_pub_bo_793\n",
      "WARNING 2024-07-30 00:38:10,853 surf2ord.py:261: Guessing MS value '268.2066' from 'HRMS Found: 268.2066' provided for reaction lit_pub_bo_794\n",
      "WARNING 2024-07-30 00:38:10,858 surf2ord.py:261: Guessing MS value '268.2066' from 'HRMS Found: 268.2066' provided for reaction lit_pub_bo_795\n",
      "WARNING 2024-07-30 00:38:10,863 surf2ord.py:261: Guessing MS value '268.2066' from 'HRMS Found: 268.2066' provided for reaction lit_pub_bo_796\n",
      "WARNING 2024-07-30 00:38:10,869 surf2ord.py:261: Guessing MS value '254.1908' from 'HRMS Found: 254.1908' provided for reaction lit_pub_bo_797\n",
      "WARNING 2024-07-30 00:38:10,874 surf2ord.py:261: Guessing MS value '294.2218' from 'HRMS Found: 294.2218' provided for reaction lit_pub_bo_798\n",
      "WARNING 2024-07-30 00:38:10,879 surf2ord.py:261: Guessing MS value '280.1313' from 'HRMS Found: 280.1313' provided for reaction lit_pub_bo_799\n",
      "WARNING 2024-07-30 00:38:10,885 surf2ord.py:261: Guessing MS value '282.1879' from 'HRMS Found: 282.1879' provided for reaction lit_pub_bo_800\n",
      "WARNING 2024-07-30 00:38:10,891 surf2ord.py:261: Guessing MS value '310.2535' from 'HRMS Found: 310.2535' provided for reaction lit_pub_bo_801\n",
      "WARNING 2024-07-30 00:38:10,896 surf2ord.py:261: Guessing MS value '261.1511' from 'HRMS Found: 261.1511' provided for reaction lit_pub_bo_802\n",
      "WARNING 2024-07-30 00:38:10,901 surf2ord.py:261: Guessing MS value '261.1511' from 'HRMS Found: 261.1511' provided for reaction lit_pub_bo_803\n",
      "WARNING 2024-07-30 00:38:10,908 surf2ord.py:261: Guessing MS value '275.1693' from 'HRMS Found: 275.1693' provided for reaction lit_pub_bo_804\n",
      "WARNING 2024-07-30 00:38:10,914 surf2ord.py:261: Guessing MS value '275.1693' from 'HRMS Found: 275.1693' provided for reaction lit_pub_bo_805\n",
      "WARNING 2024-07-30 00:38:10,919 surf2ord.py:261: Guessing MS value '276.1495' from 'HRMS Found: 276.1495' provided for reaction lit_pub_bo_806\n",
      "WARNING 2024-07-30 00:38:10,925 surf2ord.py:261: Guessing MS value '276.1495' from 'HRMS Found: 276.1495' provided for reaction lit_pub_bo_807\n",
      "WARNING 2024-07-30 00:38:10,930 surf2ord.py:261: Guessing MS value '291.1637' from 'HRMS Found: 291.1637' provided for reaction lit_pub_bo_808\n",
      "WARNING 2024-07-30 00:38:10,936 surf2ord.py:261: Guessing MS value '291.1637' from 'HRMS Found: 291.1637' provided for reaction lit_pub_bo_809\n",
      "WARNING 2024-07-30 00:38:10,941 surf2ord.py:261: Guessing MS value '330.146' from 'HRMS Found: 330.1460' provided for reaction lit_pub_bo_810\n",
      "WARNING 2024-07-30 00:38:10,947 surf2ord.py:261: Guessing MS value '330.146' from 'HRMS Found: 330.1460' provided for reaction lit_pub_bo_811\n",
      "WARNING 2024-07-30 00:38:10,953 surf2ord.py:261: Guessing MS value '337.1846' from 'HRMS Found: 337.1846' provided for reaction lit_pub_bo_812\n",
      "WARNING 2024-07-30 00:38:10,958 surf2ord.py:261: Guessing MS value '337.1846' from 'HRMS Found: 337.1846' provided for reaction lit_pub_bo_813\n",
      "WARNING 2024-07-30 00:38:10,964 surf2ord.py:261: Guessing MS value '317.2157' from 'HRMS Found: 317.2157' provided for reaction lit_pub_bo_814\n",
      "WARNING 2024-07-30 00:38:10,970 surf2ord.py:261: Guessing MS value '317.2157' from 'HRMS Found: 317.2157' provided for reaction lit_pub_bo_815\n",
      "WARNING 2024-07-30 00:38:10,975 surf2ord.py:261: Guessing MS value '295.114' from 'HRMS Found: 295.1140' provided for reaction lit_pub_bo_816\n",
      "WARNING 2024-07-30 00:38:10,981 surf2ord.py:261: Guessing MS value '295.114' from 'HRMS Found: 295.1140' provided for reaction lit_pub_bo_817\n",
      "WARNING 2024-07-30 00:38:10,987 surf2ord.py:261: Guessing MS value '339.1269' from 'HRMS Found: 339.1269' provided for reaction lit_pub_bo_818\n",
      "WARNING 2024-07-30 00:38:10,993 surf2ord.py:261: Guessing MS value '339.1269' from 'HRMS Found: 339.1269' provided for reaction lit_pub_bo_819\n",
      "WARNING 2024-07-30 00:38:10,998 surf2ord.py:261: Guessing MS value '337.185' from 'HRMS Found: 337.1850' provided for reaction lit_pub_bo_820\n",
      "WARNING 2024-07-30 00:38:11,004 surf2ord.py:261: Guessing MS value '337.185' from 'HRMS Found: 337.1850' provided for reaction lit_pub_bo_821\n",
      "WARNING 2024-07-30 00:38:11,016 surf2ord.py:261: Guessing MS value '367.1963' from 'HRMS Found: 367.1963' provided for reaction lit_pub_bo_823\n",
      "WARNING 2024-07-30 00:38:11,023 surf2ord.py:261: Guessing MS value '351.2011' from 'HRMS Found: 351.2011' provided for reaction lit_pub_bo_824\n",
      "WARNING 2024-07-30 00:38:11,029 surf2ord.py:261: Guessing MS value '443.2272' from 'HRMS Found: 443.2272' provided for reaction lit_pub_bo_825\n",
      "WARNING 2024-07-30 00:38:11,036 surf2ord.py:261: Guessing MS value '371.1478' from 'HRMS Found: 371.1478' provided for reaction lit_pub_bo_826\n",
      "WARNING 2024-07-30 00:38:11,042 surf2ord.py:261: Guessing MS value '415.095' from 'HRMS Found: 415.0950' provided for reaction lit_pub_bo_827\n",
      "WARNING 2024-07-30 00:38:11,048 surf2ord.py:261: Guessing MS value '393.2494' from 'HRMS Found: 393.2494' provided for reaction lit_pub_bo_828\n",
      "WARNING 2024-07-30 00:38:11,054 surf2ord.py:261: Guessing MS value '421.1672' from 'HRMS Found: 421.1672' provided for reaction lit_pub_bo_829\n",
      "WARNING 2024-07-30 00:38:11,060 surf2ord.py:261: Guessing MS value '367.1956' from 'HRMS Found: 367.1956' provided for reaction lit_pub_bo_830\n",
      "WARNING 2024-07-30 00:38:11,065 surf2ord.py:261: Guessing MS value '405.1743' from 'HRMS Found: 405.1743' provided for reaction lit_pub_bo_831\n",
      "WARNING 2024-07-30 00:38:11,072 surf2ord.py:261: Guessing MS value '371.1456' from 'HRMS Found: 371.1456' provided for reaction lit_pub_bo_832\n",
      "WARNING 2024-07-30 00:38:11,079 surf2ord.py:261: Guessing MS value '415.0959' from 'HRMS Found: 415.0959' provided for reaction lit_pub_bo_833\n",
      "WARNING 2024-07-30 00:38:11,087 surf2ord.py:261: Guessing MS value '395.1959' from 'HRMS Found: 395.1959' provided for reaction lit_pub_bo_834\n",
      "WARNING 2024-07-30 00:38:11,094 surf2ord.py:261: Guessing MS value '387.1994' from 'HRMS Found: 387.1994' provided for reaction lit_pub_bo_835\n",
      "WARNING 2024-07-30 00:38:11,100 surf2ord.py:261: Guessing MS value '361.2059' from 'HRMS Found: 361.2059' provided for reaction lit_pub_bo_836\n",
      "WARNING 2024-07-30 00:38:11,323 surf2ord.py:261: Guessing MS value '273.1104' from 'HRMS Found: 273.1104' provided for reaction lit_pub_bo_874\n",
      "WARNING 2024-07-30 00:38:11,328 surf2ord.py:261: Guessing MS value '273.1104' from 'HRMS Found: 273.1104' provided for reaction lit_pub_bo_875\n",
      "WARNING 2024-07-30 00:38:11,334 surf2ord.py:261: Guessing MS value '273.1104' from 'HRMS Found: 273.1104' provided for reaction lit_pub_bo_876\n",
      "WARNING 2024-07-30 00:38:11,341 surf2ord.py:261: Guessing MS value '273.1104' from 'HRMS Found: 273.1104' provided for reaction lit_pub_bo_877\n",
      "WARNING 2024-07-30 00:38:11,347 surf2ord.py:261: Guessing MS value '273.1104' from 'HRMS Found: 273.1104' provided for reaction lit_pub_bo_878\n",
      "WARNING 2024-07-30 00:38:11,353 surf2ord.py:261: Guessing MS value '273.1104' from 'HRMS Found: 273.1104' provided for reaction lit_pub_bo_879\n",
      "WARNING 2024-07-30 00:38:11,359 surf2ord.py:261: Guessing MS value '273.1104' from 'HRMS Found: 273.1104' provided for reaction lit_pub_bo_880\n",
      "WARNING 2024-07-30 00:38:11,365 surf2ord.py:261: Guessing MS value '273.1104' from 'HRMS Found: 273.1104' provided for reaction lit_pub_bo_881\n",
      "WARNING 2024-07-30 00:38:11,371 surf2ord.py:261: Guessing MS value '287.1248' from 'HRMS Found: 287.1248' provided for reaction lit_pub_bo_882\n",
      "WARNING 2024-07-30 00:38:11,376 surf2ord.py:261: Guessing MS value '287.1256' from 'HRMS Found: 287.1256' provided for reaction lit_pub_bo_883\n",
      "WARNING 2024-07-30 00:38:11,383 surf2ord.py:261: Guessing MS value '280.13' from 'HRMS Found: 280.1300' provided for reaction lit_pub_bo_884\n",
      "WARNING 2024-07-30 00:38:11,389 surf2ord.py:261: Guessing MS value '280.13' from 'HRMS Found: 280.1300' provided for reaction lit_pub_bo_885\n",
      "WARNING 2024-07-30 00:38:11,395 surf2ord.py:261: Guessing MS value '264.1343' from 'HRMS Found: 264.1343' provided for reaction lit_pub_bo_886\n",
      "WARNING 2024-07-30 00:38:11,401 surf2ord.py:261: Guessing MS value '264.1343' from 'HRMS Found: 264.1343' provided for reaction lit_pub_bo_887\n",
      "WARNING 2024-07-30 00:38:11,407 surf2ord.py:261: Guessing MS value '307.0687' from 'HRMS Found: 307.0687' provided for reaction lit_pub_bo_888\n",
      "WARNING 2024-07-30 00:38:11,413 surf2ord.py:261: Guessing MS value '307.0687' from 'HRMS Found: 307.0687' provided for reaction lit_pub_bo_889\n",
      "WARNING 2024-07-30 00:38:11,420 surf2ord.py:261: Guessing MS value '351.0208' from 'HRMS Found: 351.0208' provided for reaction lit_pub_bo_890\n",
      "WARNING 2024-07-30 00:38:11,428 surf2ord.py:261: Guessing MS value '351.0208' from 'HRMS Found: 351.0208' provided for reaction lit_pub_bo_891\n",
      "WARNING 2024-07-30 00:38:11,435 surf2ord.py:261: Guessing MS value '326.1461' from 'HRMS Found: 326.1461' provided for reaction lit_pub_bo_892\n",
      "WARNING 2024-07-30 00:38:11,444 surf2ord.py:261: Guessing MS value '326.1461' from 'HRMS Found: 326.1461' provided for reaction lit_pub_bo_893\n",
      "WARNING 2024-07-30 00:38:11,457 surf2ord.py:261: Guessing MS value '294.1708' from 'HRMS Found: 294.1708' provided for reaction lit_pub_bo_894\n",
      "WARNING 2024-07-30 00:38:11,462 surf2ord.py:261: Guessing MS value '294.1708' from 'HRMS Found: 294.1708' provided for reaction lit_pub_bo_895\n",
      "WARNING 2024-07-30 00:38:11,468 surf2ord.py:261: Guessing MS value '303.1197' from 'HRMS Found: 303.1197' provided for reaction lit_pub_bo_896\n",
      "WARNING 2024-07-30 00:38:11,474 surf2ord.py:261: Guessing MS value '303.1197' from 'HRMS Found: 303.1197' provided for reaction lit_pub_bo_897\n",
      "WARNING 2024-07-30 00:38:11,480 surf2ord.py:261: Guessing MS value '264.1344' from 'HRMS Found: 264.1344' provided for reaction lit_pub_bo_898\n",
      "WARNING 2024-07-30 00:38:11,487 surf2ord.py:261: Guessing MS value '264.1344' from 'HRMS Found: 264.1344' provided for reaction lit_pub_bo_899\n",
      "WARNING 2024-07-30 00:38:11,493 surf2ord.py:261: Guessing MS value '279.1585' from 'HRMS Found: 279.1585' provided for reaction lit_pub_bo_900\n",
      "WARNING 2024-07-30 00:38:11,499 surf2ord.py:261: Guessing MS value '279.1585' from 'HRMS Found: 279.1585' provided for reaction lit_pub_bo_901\n",
      "WARNING 2024-07-30 00:38:11,505 surf2ord.py:261: Guessing MS value '315.1568' from 'HRMS Found: 315.1568' provided for reaction lit_pub_bo_902\n",
      "WARNING 2024-07-30 00:38:11,511 surf2ord.py:261: Guessing MS value '315.1568' from 'HRMS Found: 315.1568' provided for reaction lit_pub_bo_903\n",
      "WARNING 2024-07-30 00:38:11,517 surf2ord.py:261: Guessing MS value '345.1492' from 'HRMS Found: 345.1492' provided for reaction lit_pub_bo_904\n",
      "WARNING 2024-07-30 00:38:11,522 surf2ord.py:261: Guessing MS value '345.1492' from 'HRMS Found: 345.1492' provided for reaction lit_pub_bo_905\n",
      "WARNING 2024-07-30 00:38:11,528 surf2ord.py:261: Guessing MS value '307.0699' from 'HRMS Found: 307.0699' provided for reaction lit_pub_bo_906\n",
      "WARNING 2024-07-30 00:38:11,533 surf2ord.py:261: Guessing MS value '307.0699' from 'HRMS Found: 307.0699' provided for reaction lit_pub_bo_907\n",
      "WARNING 2024-07-30 00:38:11,540 surf2ord.py:261: Guessing MS value '351.0185' from 'HRMS Found: 351.0185' provided for reaction lit_pub_bo_908\n",
      "WARNING 2024-07-30 00:38:11,546 surf2ord.py:261: Guessing MS value '351.0185' from 'HRMS Found: 351.0185' provided for reaction lit_pub_bo_909\n",
      "WARNING 2024-07-30 00:38:11,559 surf2ord.py:261: Guessing MS value '331.1157' from 'HRMS Found: 331.1157' provided for reaction lit_pub_bo_911\n",
      "WARNING 2024-07-30 00:38:11,565 surf2ord.py:261: Guessing MS value '344.1466' from 'HRMS Found: 344.1466' provided for reaction lit_pub_bo_912\n",
      "WARNING 2024-07-30 00:38:11,571 surf2ord.py:261: Guessing MS value '344.1466' from 'HRMS Found: 344.1466' provided for reaction lit_pub_bo_913\n",
      "WARNING 2024-07-30 00:38:11,577 surf2ord.py:261: Guessing MS value '345.1316' from 'HRMS Found: 345.1316' provided for reaction lit_pub_bo_914\n",
      "WARNING 2024-07-30 00:38:11,583 surf2ord.py:261: Guessing MS value '345.1316' from 'HRMS Found: 345.1316' provided for reaction lit_pub_bo_915\n",
      "WARNING 2024-07-30 00:38:11,588 surf2ord.py:261: Guessing MS value '298.1038' from 'HRMS Found: 298.1038' provided for reaction lit_pub_bo_916\n",
      "WARNING 2024-07-30 00:38:11,594 surf2ord.py:261: Guessing MS value '298.1038' from 'HRMS Found: 298.1038' provided for reaction lit_pub_bo_917\n",
      "WARNING 2024-07-30 00:38:11,600 surf2ord.py:261: Guessing MS value '342.1676' from 'HRMS Found: 342.1676' provided for reaction lit_pub_bo_918\n",
      "WARNING 2024-07-30 00:38:11,606 surf2ord.py:261: Guessing MS value '342.1676' from 'HRMS Found: 342.1676' provided for reaction lit_pub_bo_919\n",
      "WARNING 2024-07-30 00:38:11,612 surf2ord.py:261: Guessing MS value '358.163' from 'HRMS Found: 358.1630' provided for reaction lit_pub_bo_920\n",
      "WARNING 2024-07-30 00:38:11,618 surf2ord.py:261: Guessing MS value '358.163' from 'HRMS Found: 358.1630' provided for reaction lit_pub_bo_921\n",
      "WARNING 2024-07-30 00:38:13,063 surf2ord.py:261: Guessing MS value '381.1894' from 'HRMS Found: 381.1894' provided for reaction lit_pub_bo_1263\n",
      "WARNING 2024-07-30 00:38:13,073 surf2ord.py:261: Guessing MS value '381.1894' from 'HRMS Found: 381.1894' provided for reaction lit_pub_bo_1264\n",
      "WARNING 2024-07-30 00:38:13,079 surf2ord.py:261: Guessing MS value '381.1894' from 'HRMS Found: 381.1894' provided for reaction lit_pub_bo_1265\n",
      "WARNING 2024-07-30 00:38:13,086 surf2ord.py:261: Guessing MS value '381.1894' from 'HRMS Found: 381.1894' provided for reaction lit_pub_bo_1266\n",
      "WARNING 2024-07-30 00:38:13,092 surf2ord.py:261: Guessing MS value '381.1894' from 'HRMS Found: 381.1894' provided for reaction lit_pub_bo_1267\n",
      "WARNING 2024-07-30 00:38:13,099 surf2ord.py:261: Guessing MS value '381.1894' from 'HRMS Found: 381.1894' provided for reaction lit_pub_bo_1268\n",
      "WARNING 2024-07-30 00:38:13,106 surf2ord.py:261: Guessing MS value '381.1894' from 'HRMS Found: 381.1894' provided for reaction lit_pub_bo_1269\n",
      "WARNING 2024-07-30 00:38:13,114 surf2ord.py:261: Guessing MS value '381.1894' from 'HRMS Found: 381.1894' provided for reaction lit_pub_bo_1270\n",
      "WARNING 2024-07-30 00:38:13,122 surf2ord.py:261: Guessing MS value '381.1894' from 'HRMS Found: 381.1894' provided for reaction lit_pub_bo_1271\n",
      "WARNING 2024-07-30 00:38:13,128 surf2ord.py:261: Guessing MS value '381.1894' from 'HRMS Found: 381.1894' provided for reaction lit_pub_bo_1272\n",
      "WARNING 2024-07-30 00:38:13,134 surf2ord.py:261: Guessing MS value '381.1894' from 'HRMS Found: 381.1894' provided for reaction lit_pub_bo_1273\n",
      "WARNING 2024-07-30 00:38:13,141 surf2ord.py:261: Guessing MS value '381.1894' from 'HRMS Found: 381.1894' provided for reaction lit_pub_bo_1274\n",
      "WARNING 2024-07-30 00:38:13,147 surf2ord.py:261: Guessing MS value '381.1894' from 'HRMS Found: 381.1894' provided for reaction lit_pub_bo_1275\n",
      "WARNING 2024-07-30 00:38:13,154 surf2ord.py:261: Guessing MS value '381.1894' from 'HRMS Found: 381.1894' provided for reaction lit_pub_bo_1276\n",
      "WARNING 2024-07-30 00:38:13,160 surf2ord.py:261: Guessing MS value '381.1894' from 'HRMS Found: 381.1894' provided for reaction lit_pub_bo_1277\n",
      "WARNING 2024-07-30 00:38:13,166 surf2ord.py:261: Guessing MS value '381.1894' from 'HRMS Found: 381.1894' provided for reaction lit_pub_bo_1278\n",
      "WARNING 2024-07-30 00:38:13,172 surf2ord.py:261: Guessing MS value '381.1894' from 'HRMS Found: 381.1894' provided for reaction lit_pub_bo_1279\n",
      "WARNING 2024-07-30 00:38:13,180 surf2ord.py:261: Guessing MS value '395.2045' from 'HRMS Found: 395.2045' provided for reaction lit_pub_bo_1280\n",
      "WARNING 2024-07-30 00:38:13,187 surf2ord.py:261: Guessing MS value '407.2055' from 'HRMS Found: 407.2055' provided for reaction lit_pub_bo_1281\n",
      "WARNING 2024-07-30 00:38:13,194 surf2ord.py:261: Guessing MS value '455.2052' from 'HRMS Found: 455.2052' provided for reaction lit_pub_bo_1282\n",
      "WARNING 2024-07-30 00:38:13,201 surf2ord.py:261: Guessing MS value '345.1891' from 'HRMS Found: 345.1891' provided for reaction lit_pub_bo_1283\n",
      "WARNING 2024-07-30 00:38:13,207 surf2ord.py:261: Guessing MS value '365.1355' from 'HRMS Found: 365.1355' provided for reaction lit_pub_bo_1284\n",
      "WARNING 2024-07-30 00:38:13,214 surf2ord.py:261: Guessing MS value '361.1854' from 'HRMS Found: 361.1854' provided for reaction lit_pub_bo_1285\n",
      "WARNING 2024-07-30 00:38:13,221 surf2ord.py:261: Guessing MS value '374.2161' from 'HRMS Found: 374.2161' provided for reaction lit_pub_bo_1286\n",
      "WARNING 2024-07-30 00:38:13,227 surf2ord.py:261: Guessing MS value '361.1841' from 'HRMS Found: 361.1841' provided for reaction lit_pub_bo_1287\n",
      "WARNING 2024-07-30 00:38:13,233 surf2ord.py:261: Guessing MS value '331.1725' from 'HRMS Found: 331.1725' provided for reaction lit_pub_bo_1292\n",
      "WARNING 2024-07-30 00:38:13,240 surf2ord.py:261: Guessing MS value '274.1862' from 'HRMS Found: 274.1862' provided for reaction lit_pub_bo_1293\n",
      "WARNING 2024-07-30 00:38:13,246 surf2ord.py:261: Guessing MS value '288.2015' from 'HRMS Found: 288.2015' provided for reaction lit_pub_bo_1294\n",
      "WARNING 2024-07-30 00:38:13,252 surf2ord.py:261: Guessing MS value '304.1966' from 'HRMS Found: 304.1966' provided for reaction lit_pub_bo_1295\n",
      "WARNING 2024-07-30 00:38:13,259 surf2ord.py:261: Guessing MS value '292.176' from 'HRMS Found: 292.1760' provided for reaction lit_pub_bo_1296\n",
      "WARNING 2024-07-30 00:38:13,266 surf2ord.py:261: Guessing MS value '308.1471' from 'HRMS Found: 308.1471' provided for reaction lit_pub_bo_1297\n",
      "WARNING 2024-07-30 00:38:13,276 surf2ord.py:261: Guessing MS value '304.1965' from 'HRMS Found: 304.1965' provided for reaction lit_pub_bo_1298\n",
      "WARNING 2024-07-30 00:38:13,283 surf2ord.py:261: Guessing MS value '308.1472' from 'HRMS Found: 308.1472' provided for reaction lit_pub_bo_1299\n",
      "WARNING 2024-07-30 00:38:13,290 surf2ord.py:261: Guessing MS value '292.1758' from 'HRMS Found: 292.1758' provided for reaction lit_pub_bo_1300\n",
      "WARNING 2024-07-30 00:38:13,298 surf2ord.py:261: Guessing MS value '324.2017' from 'HRMS Found: 324.2017' provided for reaction lit_pub_bo_1301\n"
     ]
    },
    {
     "data": {
      "text/html": [
       "<pre style=\"white-space:pre;overflow-x:auto;line-height:normal;font-family:Menlo,'DejaVu Sans Mono',consolas,'Courier New',monospace\"></pre>\n"
      ],
      "text/plain": []
     },
     "metadata": {},
     "output_type": "display_data"
    },
    {
     "data": {
      "text/html": [
       "<pre style=\"white-space:pre;overflow-x:auto;line-height:normal;font-family:Menlo,'DejaVu Sans Mono',consolas,'Courier New',monospace\">\n",
       "</pre>\n"
      ],
      "text/plain": [
       "\n"
      ]
     },
     "metadata": {},
     "output_type": "display_data"
    },
    {
     "name": "stderr",
     "output_type": "stream",
     "text": [
      "INFO 2024-07-30 00:38:13,320 surf2ord.py:449: Running final ORD dataset validation...\n",
      "INFO 2024-07-30 00:38:17,480 surf2ord.py:454: Writing ORD file ./data/borylation_ord.pbtxt\n"
     ]
    }
   ],
   "source": [
    "surf2ord(input_file = input, output_file = output, dataset_name = dataset_name, dataset_description = description)"
   ]
  },
  {
   "cell_type": "markdown",
   "id": "183cc24e-df42-4960-9766-c2fa171f8786",
   "metadata": {},
   "source": [
    "## Minisci"
   ]
  },
  {
   "cell_type": "code",
   "execution_count": 9,
   "id": "ffd69b5d-e596-4b4b-a29e-738c6237b74e",
   "metadata": {},
   "outputs": [
    {
     "name": "stderr",
     "output_type": "stream",
     "text": [
      "WARNING 2024-07-30 00:38:48,440 surf2ord.py:95: Yields seem to be provided as fractions instead of percentages. Multiplying by 100\n"
     ]
    },
    {
     "data": {
      "application/vnd.jupyter.widget-view+json": {
       "model_id": "6856fa0b2e884253be192c20e70621c3",
       "version_major": 2,
       "version_minor": 0
      },
      "text/plain": [
       "Output()"
      ]
     },
     "metadata": {},
     "output_type": "display_data"
    },
    {
     "data": {
      "text/html": [
       "<pre style=\"white-space:pre;overflow-x:auto;line-height:normal;font-family:Menlo,'DejaVu Sans Mono',consolas,'Courier New',monospace\"></pre>\n"
      ],
      "text/plain": []
     },
     "metadata": {},
     "output_type": "display_data"
    },
    {
     "data": {
      "text/html": [
       "<pre style=\"white-space:pre;overflow-x:auto;line-height:normal;font-family:Menlo,'DejaVu Sans Mono',consolas,'Courier New',monospace\">\n",
       "</pre>\n"
      ],
      "text/plain": [
       "\n"
      ]
     },
     "metadata": {},
     "output_type": "display_data"
    },
    {
     "name": "stderr",
     "output_type": "stream",
     "text": [
      "INFO 2024-07-30 00:38:48,986 surf2ord.py:449: Running final ORD dataset validation...\n",
      "INFO 2024-07-30 00:38:49,352 surf2ord.py:454: Writing ORD file ./data/minisci_ord.pbtxt\n"
     ]
    }
   ],
   "source": [
    "input = './data/minisci_lit.txt'\n",
    "output = './data/minisci_ord.pbtxt'\n",
    "dataset_name = 'Minisci dataset from Roche'\n",
    "description = 'Minisci reactions which were extracted from the literature by Roche scientists and published in the SURF format (ChemRxiv, 2024, DOI: 10.26434/chemrxiv-2023-nfq7h)'\n",
    "#delimiter =\n",
    "username = \"Alex T. Mueller\"\n",
    "email = \"alex.mueller@roche.com\"\n",
    "orcid = \"0000-0001-8063-9952\"\n",
    "#overwrite_provenance = True\n",
    "organization = \"F. Hoffmann-La Roche Ltd.\"\n",
    "#validate_cat_smls\n",
    "validate = True\n",
    "\n",
    "\n",
    "surf2ord(input_file = input, output_file = output, dataset_name = dataset_name, dataset_description = description, validate = validate, username = username, \n",
    "        email = email, orcid = orcid, organization = organization)"
   ]
  },
  {
   "cell_type": "code",
   "execution_count": null,
   "id": "076b2d63-5b1f-495e-b34c-13fc92a2f58a",
   "metadata": {},
   "outputs": [],
   "source": []
  },
  {
   "cell_type": "code",
   "execution_count": null,
   "id": "c634aa4b-1a60-48c7-a422-e72cbd246ecd",
   "metadata": {},
   "outputs": [],
   "source": []
  }
 ],
 "metadata": {
  "kernelspec": {
   "display_name": "Python 3 (ipykernel)",
   "language": "python",
   "name": "python3"
  },
  "language_info": {
   "codemirror_mode": {
    "name": "ipython",
    "version": 3
   },
   "file_extension": ".py",
   "mimetype": "text/x-python",
   "name": "python",
   "nbconvert_exporter": "python",
   "pygments_lexer": "ipython3",
   "version": "3.12.4"
  }
 },
 "nbformat": 4,
 "nbformat_minor": 5
}
